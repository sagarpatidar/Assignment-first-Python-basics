{
 "cells": [
  {
   "cell_type": "markdown",
   "id": "7d0c807d",
   "metadata": {},
   "source": [
    "#' Q1. Create one variable containing following type of data:\n",
    "#(i) string\n",
    "#(ii) list\n",
    "#(iii) float\n",
    "#(iv) tuple\n"
   ]
  },
  {
   "cell_type": "code",
   "execution_count": 4,
   "id": "10e832a9",
   "metadata": {},
   "outputs": [
    {
     "name": "stdout",
     "output_type": "stream",
     "text": [
      "('Pw', 'name', 'age', [1, 2, 3, 4], [23, 34, 53], 12.32, (10, 220, 30, 40))\n"
     ]
    }
   ],
   "source": [
    "\n",
    "variable =  (\"Pw\",\"name\", \"age\",[1,2,3,4],[23,34,53],12.32,(10,220,30,40))\n",
    "print (variable)"
   ]
  },
  {
   "cell_type": "code",
   "execution_count": 6,
   "id": "d763d1ab",
   "metadata": {},
   "outputs": [],
   "source": [
    "#Q2. Given are some following variables containing data:\n",
    "#(i) var1 = ‘ ‘\n",
    "#(ii) var2 = ‘[ DS , ML , Python]’\n",
    "#(iii) var3 = [ ‘DS’ , ’ML’ , ‘Python’ ]\n",
    "#(iv) var4 = 1.\n",
    "#solution \n",
    "var1 = 'A string Contaning single Space character'\n",
    "var2 = 'A list of string'\n",
    "var3 = 'A list of String'\n",
    "var4 = 'A float with value 1.0'"
   ]
  },
  {
   "cell_type": "code",
   "execution_count": 11,
   "id": "e6e359e6",
   "metadata": {},
   "outputs": [
    {
     "name": "stdout",
     "output_type": "stream",
     "text": [
      "3.3333333333333335\n",
      "3\n",
      "3\n",
      "8\n"
     ]
    }
   ],
   "source": [
    "#Q3. Explain the use of the following operators using an example:\n",
    "#(i) /\n",
    "#(ii) %\n",
    "#(iii) //\n",
    "#(iv) **\n",
    "x = 10 \n",
    "y = 3 \n",
    "result = x/y\n",
    "print(result) #An division Operator\n",
    "x = 19\n",
    "y = 4\n",
    "remainder = x % y\n",
    "print(remainder)# Modulus operator \n",
    "x = 10\n",
    "y = 3\n",
    "pw = x // y\n",
    "print(pw)#performs floor division,\n",
    "x = 2\n",
    "y = 3\n",
    "xyz = x ** y\n",
    "print(xyz)  # Operator (Exponentiation)\n"
   ]
  },
  {
   "cell_type": "code",
   "execution_count": 21,
   "id": "a072e9f0",
   "metadata": {},
   "outputs": [
    {
     "name": "stdout",
     "output_type": "stream",
     "text": [
      "10\n",
      "<class 'int'>\n",
      "Hello\n",
      "<class 'str'>\n",
      "3.14\n",
      "<class 'float'>\n",
      "True\n",
      "<class 'bool'>\n",
      "[1, 2, 3]\n",
      "<class 'list'>\n",
      "{'name': 'Alice'}\n",
      "<class 'dict'>\n",
      "None\n",
      "<class 'NoneType'>\n",
      "42\n",
      "<class 'int'>\n",
      "(5, 6)\n",
      "<class 'tuple'>\n",
      "False\n",
      "<class 'bool'>\n"
     ]
    }
   ],
   "source": [
    "#Q4. Create a list of length 10 of your choice containing multiple types of data. Using for loop print the\n",
    "#element and its data type.\n",
    "my_list = [10, \"Hello\", 3.14, True, [1, 2, 3], {\"name\": \"Alice\"}, None, 42, (5, 6), False]\n",
    "\n",
    "for element in my_list:\n",
    "    print(element)\n",
    "    print(type(element))"
   ]
  },
  {
   "cell_type": "code",
   "execution_count": 33,
   "id": "4da40187",
   "metadata": {},
   "outputs": [
    {
     "name": "stdout",
     "output_type": "stream",
     "text": [
      "12\n",
      "12\n",
      "purely devisible by b\n"
     ]
    }
   ],
   "source": [
    "#Q5. Using a while loop, verify if the number A is purely divisible by number B and if so then how many\n",
    "#times it can be divisible.\n",
    "a =  int (input()) \n",
    "b = int (input())\n",
    "count = 0\n",
    "while b!=0 and a%b == 0:\n",
    "    a = a/b\n",
    "    count +=1\n",
    "if a ==1:\n",
    "    print (\"purely devisible by b\")\n",
    "else :\n",
    "    print (\"not purely divisible\")"
   ]
  },
  {
   "cell_type": "markdown",
   "id": "4a35018d",
   "metadata": {},
   "source": [
    "Q6. Create a list containing 25 int type data. Using for loop and if-else condition print if the element is divisible by 3 or not."
   ]
  },
  {
   "cell_type": "code",
   "execution_count": 48,
   "id": "c49de806",
   "metadata": {},
   "outputs": [
    {
     "name": "stdout",
     "output_type": "stream",
     "text": [
      "not devisible\n",
      "not devisible\n",
      "devisible by 3\n",
      "not devisible\n",
      "not devisible\n",
      "devisible by 3\n",
      "not devisible\n",
      "not devisible\n",
      "devisible by 3\n",
      "not devisible\n",
      "not devisible\n",
      "devisible by 3\n",
      "not devisible\n",
      "not devisible\n",
      "devisible by 3\n",
      "not devisible\n",
      "not devisible\n",
      "devisible by 3\n",
      "not devisible\n",
      "not devisible\n",
      "devisible by 3\n",
      "not devisible\n",
      "not devisible\n",
      "devisible by 3\n",
      "not devisible\n"
     ]
    }
   ],
   "source": [
    "My_list = [1,2,3,4,5,6,7,8,9,10,11,12,13,14,15,16,17,18,19,20,21,22,23,24,25]\n",
    "for element in My_list:\n",
    "    if element %3==0:\n",
    "        print (\"devisible by 3\")\n",
    "    else:\n",
    "        print (\"not devisible\")"
   ]
  },
  {
   "cell_type": "markdown",
   "id": "fb211a14",
   "metadata": {},
   "source": [
    "7.What do you understand about mutable and immutable data types? Give examples for both showing\n",
    "this property."
   ]
  },
  {
   "cell_type": "markdown",
   "id": "284e8838",
   "metadata": {},
   "source": [
    "Mutable data type are those who values can be modify after they are created . When you modify a mutable onject .you are actually changing the object itself, not creating a new one."
   ]
  },
  {
   "cell_type": "code",
   "execution_count": null,
   "id": "1b67809c",
   "metadata": {},
   "outputs": [],
   "source": [
    "my_list = [1, 2, 3]\n",
    "my_list.append(4)  # Modifies the original list by adding 4\n",
    "my_list[0] = 0  # Modifies the first element from 1 to 0\n"
   ]
  }
 ],
 "metadata": {
  "kernelspec": {
   "display_name": "Python 3 (ipykernel)",
   "language": "python",
   "name": "python3"
  },
  "language_info": {
   "codemirror_mode": {
    "name": "ipython",
    "version": 3
   },
   "file_extension": ".py",
   "mimetype": "text/x-python",
   "name": "python",
   "nbconvert_exporter": "python",
   "pygments_lexer": "ipython3",
   "version": "3.8.10"
  }
 },
 "nbformat": 4,
 "nbformat_minor": 5
}
